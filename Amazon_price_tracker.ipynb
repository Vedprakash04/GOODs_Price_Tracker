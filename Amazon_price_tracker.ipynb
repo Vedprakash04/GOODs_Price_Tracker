{
 "cells": [
  {
   "cell_type": "code",
   "execution_count": 2,
   "metadata": {
    "id": "pagv7pyzMq96"
   },
   "outputs": [
    {
     "name": "stdout",
     "output_type": "stream",
     "text": [
      "Failed to fetch price for https://amzn.in/d/fvMIjiK. Skipping...\n"
     ]
    },
    {
     "ename": "SystemExit",
     "evalue": "No price drops found.",
     "output_type": "error",
     "traceback": [
      "An exception has occurred, use %tb to see the full traceback.\n",
      "\u001b[1;31mSystemExit\u001b[0m\u001b[1;31m:\u001b[0m No price drops found.\n"
     ]
    },
    {
     "name": "stderr",
     "output_type": "stream",
     "text": [
      "C:\\Users\\Vedprakash\\AppData\\Roaming\\Python\\Python312\\site-packages\\IPython\\core\\interactiveshell.py:3585: UserWarning: To exit: use 'exit', 'quit', or Ctrl-D.\n",
      "  warn(\"To exit: use 'exit', 'quit', or Ctrl-D.\", stacklevel=1)\n"
     ]
    }
   ],
   "source": [
    "import requests\n",
    "from bs4 import BeautifulSoup\n",
    "from lxml import etree as et\n",
    "import pandas as pd\n",
    "from twilio.rest import Client\n",
    "import sys\n",
    "import os\n",
    "\n",
    "header = {\n",
    "    \"User-Agent\": \"Mozilla/5.0 (Windows NT 10.0; Win64; x64) AppleWebKit/537.36 (KHTML, like Gecko) Chrome/81.0.4044.138 Safari/537.36\",\n",
    "    'Accept': '*/*', 'Accept-Encoding': 'gzip, deflate, br', 'Accept-Language': 'en-GB,en-US;q=0.9,en;q=0.8'\n",
    "}\n",
    "\n",
    "amazon_urls = ['https://amzn.in/d/fvMIjiK']\n",
    "\n",
    "# Functions\n",
    "def get_amazon_price(dom):\n",
    "    try:\n",
    "        item_price = dom.xpath('//span[@class=\"a-offscreen\"]/text()')[0]\n",
    "        item_price = item_price.replace(',', '').replace('₹', '').replace('.00', '')\n",
    "        return int(item_price)\n",
    "    except IndexError:\n",
    "        return None  # Price not found\n",
    "\n",
    "\n",
    "def get_product_name(dom):\n",
    "    try:\n",
    "        name = dom.xpath('//span[@id=\"productTitle\"]/text()')\n",
    "        return name[0].strip()\n",
    "    except IndexError:\n",
    "        return \"Unknown Product\"\n",
    "\n",
    "\n",
    "def get_master_price(url, df):\n",
    "    row = df[df['url'] == url]\n",
    "    if not row.empty:\n",
    "        return row.iloc[0]['price']\n",
    "    return None\n",
    "\n",
    "\n",
    "# Main script\n",
    "try:\n",
    "    df = pd.read_csv('master_Data.csv')\n",
    "except FileNotFoundError:\n",
    "    sys.exit(\"Master data CSV not found. Exiting...\")\n",
    "\n",
    "price_drop_products = []\n",
    "price_drop_list_url = []\n",
    "\n",
    "for product_url in amazon_urls:\n",
    "    response = requests.get(product_url, headers=header)\n",
    "    soup = BeautifulSoup(response.content, 'html.parser')\n",
    "    main_dom = et.HTML(str(soup))\n",
    "\n",
    "    price = get_amazon_price(main_dom)\n",
    "    product_name = get_product_name(main_dom)\n",
    "    if price is None:\n",
    "        print(f\"Failed to fetch price for {product_url}. Skipping...\")\n",
    "        continue\n",
    "\n",
    "    master_price = get_master_price(product_url, df)\n",
    "    if master_price is None:\n",
    "        print(f\"No master price for {product_name}. Skipping...\")\n",
    "        continue\n",
    "\n",
    "    if price < master_price:\n",
    "        change_percentage = round((master_price - price) * 100 / master_price)\n",
    "        if change_percentage > 10:\n",
    "            print(f\"There is a {change_percentage}% drop in price for {product_name}\")\n",
    "            print(f\"Click here to purchase: {product_url}\")\n",
    "            price_drop_products.append(product_name)\n",
    "            price_drop_list_url.append(product_url)\n",
    "\n",
    "if not price_drop_products:\n",
    "    sys.exit(\"No price drops found.\")\n",
    "\n",
    "# SMS Notification\n",
    "message_content = \"There is a drop in price for {} products. Click to purchase:\\n\".format(len(price_drop_products))\n",
    "message_content += \"\\n\".join(price_drop_list_url)\n",
    "\n",
    "# Twilio credentials from environment variables\n",
    "account_sid = os.getenv('AC38b15e4b20d8868a51dac50e04d7fdd2c')\n",
    "auth_token = os.getenv('aa8920f0583311a5c9a21801346e20ca')\n",
    "\n",
    "if not account_sid or not auth_token:\n",
    "    sys.exit(\"Twilio credentials not set. Exiting...\")\n",
    "\n",
    "client = Client(account_sid, auth_token)\n",
    "message = client.messages.create(\n",
    "    from_='+14155238886',  \n",
    "    body=message_content,\n",
    "    to='7999878432'   \n",
    ")\n",
    "\n",
    "print(\"Notification sent successfully!\")\n"
   ]
  }
 ],
 "metadata": {
  "colab": {
   "name": "Amazon_price_tracker.ipynb",
   "provenance": []
  },
  "kernelspec": {
   "display_name": "Python 3",
   "name": "python3"
  },
  "language_info": {
   "codemirror_mode": {
    "name": "ipython",
    "version": 3
   },
   "file_extension": ".py",
   "mimetype": "text/x-python",
   "name": "python",
   "nbconvert_exporter": "python",
   "pygments_lexer": "ipython3",
   "version": "3.12.2"
  }
 },
 "nbformat": 4,
 "nbformat_minor": 0
}
